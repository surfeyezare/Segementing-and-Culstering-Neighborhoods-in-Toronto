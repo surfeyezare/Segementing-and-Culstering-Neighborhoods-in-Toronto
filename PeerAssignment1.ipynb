{
 "cells": [
  {
   "cell_type": "markdown",
   "metadata": {},
   "source": [
    "### Segmenting and Clustering Neighborhoods in Toronto"
   ]
  },
  {
   "cell_type": "code",
   "execution_count": 77,
   "metadata": {},
   "outputs": [],
   "source": [
    "import numpy as np\n",
    "import pandas as pd\n",
    "import requests\n",
    "from bs4 import BeautifulSoup "
   ]
  },
  {
   "cell_type": "markdown",
   "metadata": {},
   "source": [
    "## Part 1 \n",
    "\n",
    "* All rows have been appended on Wikipedia\n",
    "    - Items like Harbourfront and Regent Park has already been combined in the table. \n"
   ]
  },
  {
   "cell_type": "code",
   "execution_count": 86,
   "metadata": {},
   "outputs": [],
   "source": [
    "#request data from url\n",
    "url = 'https://en.wikipedia.org/wiki/List_of_postal_codes_of_Canada:_M'\n",
    "results = requests.get(url)\n",
    "\n",
    "#use BeautifulSoup to parse html\n",
    "soup = BeautifulSoup(results.text, 'html.parser')\n",
    "\n",
    "# find the table in html\n",
    "table = soup.find('table')\n",
    "\n",
    "#create columns and dataframe\n",
    "columns = ['Postalcode', 'Borough', 'Neighborhood']\n",
    "can_df = pd.DataFrame(columns = columns)\n",
    "\n",
    "#select columns from tr and td from table\n",
    "for tr in table.find_all('tr'):\n",
    "    row = []\n",
    "    for  td in tr.find_all('td'):\n",
    "        row.append(td.text.strip())\n",
    "    if len(row) == 3:\n",
    "        can_df.loc[len(can_df)] = row\n",
    "\n",
    "\n"
   ]
  },
  {
   "cell_type": "code",
   "execution_count": 89,
   "metadata": {},
   "outputs": [],
   "source": [
    "#remove Borough rows with Not assigned\n",
    "can_df= can_df[can_df['Borough']!='Not assigned']"
   ]
  },
  {
   "cell_type": "code",
   "execution_count": 90,
   "metadata": {},
   "outputs": [
    {
     "data": {
      "text/plain": [
       "(103, 3)"
      ]
     },
     "execution_count": 90,
     "metadata": {},
     "output_type": "execute_result"
    }
   ],
   "source": [
    "can_df.shape"
   ]
  },
  {
   "cell_type": "markdown",
   "metadata": {},
   "source": []
  },
  {
   "cell_type": "code",
   "execution_count": null,
   "metadata": {},
   "outputs": [],
   "source": []
  }
 ],
 "metadata": {
  "kernelspec": {
   "display_name": "Python",
   "language": "python",
   "name": "conda-env-python-py"
  },
  "language_info": {
   "codemirror_mode": {
    "name": "ipython",
    "version": 3
   },
   "file_extension": ".py",
   "mimetype": "text/x-python",
   "name": "python",
   "nbconvert_exporter": "python",
   "pygments_lexer": "ipython3",
   "version": "3.6.11"
  }
 },
 "nbformat": 4,
 "nbformat_minor": 4
}
